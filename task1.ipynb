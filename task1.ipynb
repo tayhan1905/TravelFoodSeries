{
 "cells": [
  {
   "cell_type": "markdown",
   "metadata": {},
   "source": [
    "# Take Home Assignment for Data Engineer Intern\n",
    "## Context\n",
    "\n",
    "Steven is a travel blogger that intends to create a travel food series. He is looking at data from Zomato for inspiration. He wants to find restaurants that have good user ratings and interesting past events. This assignment involves quering the json file provided and accessing 3 items. \n",
    "\n",
    "(1) Restaurant Information\n",
    "\n",
    "(2) Restaurant Events Information\n",
    "\n",
    "(3) Aggregate Rating Information\n",
    "\n",
    "This notebook will detail the methodology of querying information from the json file provided."
   ]
  },
  {
   "cell_type": "markdown",
   "metadata": {},
   "source": [
    "## Importing Dependencies\n",
    "The main libraries in use will be \n",
    "\n",
    "(1) `requests` to obtain the json information\n",
    "\n",
    "(2) `pandas` represent the queries in a DataFrame Format"
   ]
  },
  {
   "cell_type": "code",
   "execution_count": 13,
   "metadata": {},
   "outputs": [],
   "source": [
    "import requests\n",
    "import pandas as pd"
   ]
  },
  {
   "cell_type": "markdown",
   "metadata": {},
   "source": [
    "## Loading the Dataset"
   ]
  },
  {
   "cell_type": "code",
   "execution_count": 14,
   "metadata": {},
   "outputs": [],
   "source": [
    "data = requests.get(\"https://raw.githubusercontent.com/Papagoat/brain-assessment/main/restaurant_data.json\").json()"
   ]
  },
  {
   "cell_type": "markdown",
   "metadata": {},
   "source": [
    "## Step 1: Extract Restaurant Data\n",
    "\n",
    "Extraction of Restaurant Data from the json file provided\n",
    "\n",
    "The features of the restaurant information have also been extracted as the respective columns as shown in the code"
   ]
  },
  {
   "cell_type": "code",
   "execution_count": 15,
   "metadata": {},
   "outputs": [],
   "source": [
    "#Create DataFrame with the respective columns as stated in the requirements file\n",
    "df = pd.DataFrame(columns = ['rest_id',\n",
    "            'name',\n",
    "            'country',\n",
    "            'city',\n",
    "            'rating_votes',\n",
    "            'agregate_rating',\n",
    "            'cuisines'])\n",
    "\n",
    "#for all the results available in the data\n",
    "for results in data:\n",
    "    # for all the restaurants within each result\n",
    "    for rest in results['restaurants']:\n",
    "        dic = {\n",
    "            'rest_id' : rest[\"restaurant\"][\"id\"],\n",
    "            'name' : rest[\"restaurant\"][\"name\"],\n",
    "            'country': rest[\"restaurant\"][\"location\"][\"country_id\"],\n",
    "            'city': rest[\"restaurant\"][\"location\"][\"city_id\"],\n",
    "            'rating_votes': rest[\"restaurant\"][\"user_rating\"][\"votes\"],\n",
    "            'agregate_rating': rest[\"restaurant\"][\"user_rating\"][\"aggregate_rating\"],\n",
    "            'cuisines': rest[\"restaurant\"]['cuisines']\n",
    "        }\n",
    "        #upload the respective information into the DataFrame\n",
    "        df.loc[len(df)] = dic"
   ]
  },
  {
   "cell_type": "markdown",
   "metadata": {},
   "source": [
    "### Addition of Country Information into the DataFrame"
   ]
  },
  {
   "cell_type": "code",
   "execution_count": 16,
   "metadata": {},
   "outputs": [],
   "source": [
    "#Change country_id to country name\n",
    "country = pd.read_excel(\"Country-Code.xlsx\")"
   ]
  },
  {
   "cell_type": "code",
   "execution_count": 28,
   "metadata": {},
   "outputs": [
    {
     "data": {
      "text/html": [
       "<div>\n",
       "<style scoped>\n",
       "    .dataframe tbody tr th:only-of-type {\n",
       "        vertical-align: middle;\n",
       "    }\n",
       "\n",
       "    .dataframe tbody tr th {\n",
       "        vertical-align: top;\n",
       "    }\n",
       "\n",
       "    .dataframe thead th {\n",
       "        text-align: right;\n",
       "    }\n",
       "</style>\n",
       "<table border=\"1\" class=\"dataframe\">\n",
       "  <thead>\n",
       "    <tr style=\"text-align: right;\">\n",
       "      <th></th>\n",
       "      <th>rest_id</th>\n",
       "      <th>name</th>\n",
       "      <th>country</th>\n",
       "      <th>city</th>\n",
       "      <th>rating_votes</th>\n",
       "      <th>agregate_rating</th>\n",
       "      <th>cuisines</th>\n",
       "    </tr>\n",
       "  </thead>\n",
       "  <tbody>\n",
       "    <tr>\n",
       "      <th>0</th>\n",
       "      <td>18649486</td>\n",
       "      <td>The Drunken Botanist</td>\n",
       "      <td>None</td>\n",
       "      <td>1</td>\n",
       "      <td>4765</td>\n",
       "      <td>4.4</td>\n",
       "      <td>Continental, Italian, North Indian, Chinese</td>\n",
       "    </tr>\n",
       "    <tr>\n",
       "      <th>1</th>\n",
       "      <td>308322</td>\n",
       "      <td>Hauz Khas Social</td>\n",
       "      <td>None</td>\n",
       "      <td>1</td>\n",
       "      <td>13627</td>\n",
       "      <td>4.6</td>\n",
       "      <td>Continental, American, Asian, North Indian, Ch...</td>\n",
       "    </tr>\n",
       "    <tr>\n",
       "      <th>2</th>\n",
       "      <td>18856789</td>\n",
       "      <td>AIR- An Ivory Region</td>\n",
       "      <td>None</td>\n",
       "      <td>1</td>\n",
       "      <td>1819</td>\n",
       "      <td>4.1</td>\n",
       "      <td>North Indian, Chinese, Continental, Asian</td>\n",
       "    </tr>\n",
       "    <tr>\n",
       "      <th>3</th>\n",
       "      <td>307374</td>\n",
       "      <td>AMA Cafe</td>\n",
       "      <td>None</td>\n",
       "      <td>1</td>\n",
       "      <td>3252</td>\n",
       "      <td>4.4</td>\n",
       "      <td>Cafe, Juices</td>\n",
       "    </tr>\n",
       "    <tr>\n",
       "      <th>4</th>\n",
       "      <td>18238278</td>\n",
       "      <td>Tamasha</td>\n",
       "      <td>None</td>\n",
       "      <td>1</td>\n",
       "      <td>8112</td>\n",
       "      <td>4.4</td>\n",
       "      <td>Finger Food, North Indian, Continental, Italian</td>\n",
       "    </tr>\n",
       "  </tbody>\n",
       "</table>\n",
       "</div>"
      ],
      "text/plain": [
       "    rest_id                  name country  city rating_votes agregate_rating  \\\n",
       "0  18649486  The Drunken Botanist    None     1         4765             4.4   \n",
       "1    308322      Hauz Khas Social    None     1        13627             4.6   \n",
       "2  18856789  AIR- An Ivory Region    None     1         1819             4.1   \n",
       "3    307374              AMA Cafe    None     1         3252             4.4   \n",
       "4  18238278               Tamasha    None     1         8112             4.4   \n",
       "\n",
       "                                            cuisines  \n",
       "0        Continental, Italian, North Indian, Chinese  \n",
       "1  Continental, American, Asian, North Indian, Ch...  \n",
       "2          North Indian, Chinese, Continental, Asian  \n",
       "3                                       Cafe, Juices  \n",
       "4    Finger Food, North Indian, Continental, Italian  "
      ]
     },
     "execution_count": 28,
     "metadata": {},
     "output_type": "execute_result"
    }
   ],
   "source": [
    "df[\"country\"] = df[\"country\"].apply(lambda x: country.loc[country[\"Country Code\"].values == x, \"Country\"].values[0] if x in country[\"Country Code\"].values else None)\n",
    "\n",
    "df.to_csv(\"restaurant.csv\", sep = \",\", index = False)\n",
    "df.head()"
   ]
  },
  {
   "cell_type": "markdown",
   "metadata": {},
   "source": [
    "## Step 2\n",
    "Extract the list of restuarants events that occured in the month of April 2019\n",
    "\n",
    "The features of the events have also been extracted as the respective columns as shown in the code"
   ]
  },
  {
   "cell_type": "code",
   "execution_count": 27,
   "metadata": {},
   "outputs": [],
   "source": [
    "from datetime import datetime\n",
    "\n",
    "#initialising DataFrame with the respective columns as provided by the task\n",
    "df1 = pd.DataFrame(columns=['rest_id', 'name', 'photo_url', 'event_id', 'event_title', 'start_date', 'end_date'])\n",
    "\n",
    "#for all the results in data\n",
    "for results in data:\n",
    "    #for each restaurant in the result\n",
    "    for rest in results['restaurants']:\n",
    "        #common features throughout same restaurants and different restaurant events\n",
    "        dic = {\n",
    "            'rest_id' : rest[\"restaurant\"][\"id\"],\n",
    "            'name' : rest[\"restaurant\"][\"name\"],\n",
    "            'photo_url' : rest[\"restaurant\"][\"photos_url\"]\n",
    "        }\n",
    "        entry = dic.copy()\n",
    "        #check if zomato_events is in the restaurant data / does the restaurant have events\n",
    "        if \"zomato_events\" in rest[\"restaurant\"]:\n",
    "            for event in rest[\"restaurant\"][\"zomato_events\"]:\n",
    "                #Record the start date, year and month & end date, year and month\n",
    "                start_date = datetime.strptime(event[\"event\"][\"start_date\"], \"%Y-%m-%d\")\n",
    "                start_month = start_date.month\n",
    "                start_year = start_date.year\n",
    "                end_date = datetime.strptime(event[\"event\"][\"end_date\"], \"%Y-%m-%d\")\n",
    "                end_month = end_date.month\n",
    "                end_year = end_date.year\n",
    "                #check that it is during April 2019\n",
    "                if start_month <= 4 <= end_month and start_year <= 2019 <= end_year:\n",
    "                    entry[\"event_id\"] = event[\"event\"][\"event_id\"] if \"event_id\" in event[\"event\"] else \"NA\"\n",
    "                    entry[\"event_title\"] = event[\"event\"][\"title\"] if \"title\" in event[\"event\"] else \"NA\"\n",
    "                    entry[\"start_date\"] = start_date \n",
    "                    entry[\"end_date\"] = end_date\n",
    "                    \n",
    "                    #Add each entry into the dataframe\n",
    "                    df1.loc[len(df1)] = entry\n",
    "\n",
    "df1.to_csv(\"restaurant_events.csv\", sep = \",\", index = False)"
   ]
  },
  {
   "cell_type": "code",
   "execution_count": 25,
   "metadata": {},
   "outputs": [
    {
     "data": {
      "text/plain": [
       "(163, 7)"
      ]
     },
     "execution_count": 25,
     "metadata": {},
     "output_type": "execute_result"
    }
   ],
   "source": [
    "df1.head()\n",
    "df1.shape"
   ]
  },
  {
   "cell_type": "markdown",
   "metadata": {},
   "source": [
    "## Step 3\n",
    "Determine the threshold for the different rating text based on aggregate rating"
   ]
  },
  {
   "cell_type": "code",
   "execution_count": 20,
   "metadata": {},
   "outputs": [
    {
     "name": "stdout",
     "output_type": "stream",
     "text": [
      "{'Excellent': [4.5, 4.9], 'Very Good': [4.0, 4.4], 'Good': [3.5, 3.9], 'Average': [2.5, 3.4], 'Poor': [2.2, 2.2]}\n"
     ]
    }
   ],
   "source": [
    "dic = {'Excellent' : [],\n",
    "       'Very Good' : [],\n",
    "       'Good' : [],\n",
    "       'Average' : [],\n",
    "       'Poor' : [],\n",
    "}\n",
    "\n",
    "#Include a whole list of aggregate rating score according to the rating text\n",
    "for results in data:\n",
    "    for rest in results[\"restaurants\"]:\n",
    "        text = rest[\"restaurant\"][\"user_rating\"][\"rating_text\"]\n",
    "        if text in dic:\n",
    "            dic[text].append(float(rest[\"restaurant\"][\"user_rating\"][\"aggregate_rating\"]))\n",
    "\n",
    "for key in dic:\n",
    "    temp = [0] * 2\n",
    "    #Calculate the max and min of each list\n",
    "    max_rating = max(dic[key])\n",
    "    min_rating = min(dic[key])\n",
    "    temp[0] = min_rating\n",
    "    temp[1] = max_rating\n",
    "    dic[key] = temp\n",
    "print(dic)"
   ]
  }
 ],
 "metadata": {
  "kernelspec": {
   "display_name": "Python 3",
   "language": "python",
   "name": "python3"
  },
  "language_info": {
   "codemirror_mode": {
    "name": "ipython",
    "version": 3
   },
   "file_extension": ".py",
   "mimetype": "text/x-python",
   "name": "python",
   "nbconvert_exporter": "python",
   "pygments_lexer": "ipython3",
   "version": "3.11.8"
  }
 },
 "nbformat": 4,
 "nbformat_minor": 2
}
